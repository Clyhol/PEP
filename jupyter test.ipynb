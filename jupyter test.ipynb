{
 "cells": [
  {
   "cell_type": "markdown",
   "metadata": {},
   "source": [
    "### Import libraries"
   ]
  },
  {
   "cell_type": "code",
   "execution_count": 1,
   "metadata": {},
   "outputs": [],
   "source": [
    "from sklearn.datasets import load_wine\n",
    "from sklearn.ensemble import RandomForestClassifier\n",
    "import matplotlib.pyplot as plt"
   ]
  },
  {
   "cell_type": "markdown",
   "metadata": {},
   "source": [
    "### Load data"
   ]
  },
  {
   "cell_type": "code",
   "execution_count": 2,
   "metadata": {},
   "outputs": [
    {
     "name": "stdout",
     "output_type": "stream",
     "text": [
      "dict_keys(['data', 'target', 'frame', 'target_names', 'DESCR', 'feature_names']) \n",
      "\n",
      "features: (178, 13)\n",
      "targets (178,) \n",
      "\n",
      "[1.423e+01 1.710e+00 2.430e+00 1.560e+01 1.270e+02 2.800e+00 3.060e+00\n",
      " 2.800e-01 2.290e+00 5.640e+00 1.040e+00 3.920e+00 1.065e+03] \n",
      "\n"
     ]
    }
   ],
   "source": [
    "br = '\\n'\n",
    "data = load_wine()\n",
    "keys = data.keys()\n",
    "print (keys, br)\n",
    "X, y = data.data, data.target\n",
    "print ('features:', X.shape)\n",
    "print ('targets', y.shape, br)\n",
    "print (X[0], br)"
   ]
  },
  {
   "cell_type": "markdown",
   "metadata": {},
   "source": [
    "### Split data"
   ]
  },
  {
   "cell_type": "code",
   "execution_count": 3,
   "metadata": {},
   "outputs": [
    {
     "name": "stdout",
     "output_type": "stream",
     "text": [
      "feature set: \n",
      " ['alcohol', 'malic_acid', 'ash', 'alcalinity_of_ash', 'magnesium', 'total_phenols', 'flavanoids', 'nonflavanoid_phenols', 'proanthocyanins', 'color_intensity', 'hue', 'od280/od315_of_diluted_wines', 'proline'] \n",
      "\n",
      "targets: ['class_0' 'class_1' 'class_2'] \n",
      "\n"
     ]
    }
   ],
   "source": [
    "features = data.feature_names\n",
    "targets = data.target_names\n",
    "print('feature set:', br, features, br)\n",
    "print('targets:', targets, br)"
   ]
  },
  {
   "cell_type": "code",
   "execution_count": 4,
   "metadata": {},
   "outputs": [
    {
     "name": "stdout",
     "output_type": "stream",
     "text": [
      "12 most important features (RandomForestClassifier):\n",
      "(0.17703074499266258, 'flavanoids')\n",
      "(0.1701992878825888, 'proline')\n",
      "(0.13237078418961754, 'color_intensity')\n",
      "(0.12405066577182161, 'od280/od315_of_diluted_wines')\n",
      "(0.11894356098844186, 'alcohol')\n",
      "(0.08508089438914258, 'hue')\n",
      "(0.05134471394387692, 'total_phenols')\n",
      "(0.03673399712384522, 'malic_acid')\n",
      "(0.02954910882528004, 'magnesium')\n",
      "(0.02701720564947943, 'alcalinity_of_ash')\n",
      "(0.02144476718023301, 'proanthocyanins')\n",
      "(0.015230973728971014, 'ash')\n"
     ]
    },
    {
     "data": {
      "text/plain": [
       "[None, None, None, None, None, None, None, None, None, None, None, None]"
      ]
     },
     "execution_count": 4,
     "metadata": {},
     "output_type": "execute_result"
    }
   ],
   "source": [
    "clf = RandomForestClassifier(random_state=0, n_estimators=100, criterion='entropy')\n",
    "clf.fit(X, y)\n",
    "clf_name = clf.__class__.__name__\n",
    "feature_importances = clf.feature_importances_\n",
    "importance = sorted(zip(feature_importances, features), reverse=True)\n",
    "n = 12\n",
    "print (n, 'most important features' + ' (' + clf_name + '):')\n",
    "[print (row) for i, row in enumerate(importance) if i < n]\n"
   ]
  },
  {
   "cell_type": "code",
   "execution_count": null,
   "metadata": {},
   "outputs": [],
   "source": [
    "from sklearn import tree\n",
    "clf_0 = clf.estimators_[0]\n",
    "plt.figure(figsize = (50,50))\n",
    "tree_plot = tree.plot_tree(clf_0, feature_names=features, class_names=targets, filled=True)"
   ]
  }
 ],
 "metadata": {
  "kernelspec": {
   "display_name": ".venv",
   "language": "python",
   "name": "python3"
  },
  "language_info": {
   "codemirror_mode": {
    "name": "ipython",
    "version": 3
   },
   "file_extension": ".py",
   "mimetype": "text/x-python",
   "name": "python",
   "nbconvert_exporter": "python",
   "pygments_lexer": "ipython3",
   "version": "3.12.2"
  }
 },
 "nbformat": 4,
 "nbformat_minor": 2
}
