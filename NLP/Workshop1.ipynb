{
 "cells": [
  {
   "cell_type": "markdown",
   "metadata": {},
   "source": [
    "# Workshop 1 - Basic NLP"
   ]
  },
  {
   "cell_type": "markdown",
   "metadata": {},
   "source": [
    "This workshop will use the nltk library to do word tokenization\n",
    "The nltk library contains sample texts to use for nlp"
   ]
  },
  {
   "cell_type": "code",
   "execution_count": null,
   "metadata": {},
   "outputs": [],
   "source": [
    "import nltk as nl\n",
    "from nltk.tokenize import word_tokenize\n",
    "from nltk.book import *"
   ]
  },
  {
   "cell_type": "code",
   "execution_count": null,
   "metadata": {},
   "outputs": [],
   "source": [
    "def word_count(litterature):\n",
    "    try:\n",
    "        with open(litterature, encoding='utf-8') as file:\n",
    "            text = file.read()\n",
    "    except FileNotFoundError:\n",
    "        print(f\"Sorry, the file {litterature} does not exist.\")\n",
    "    else:\n",
    "        words = text.split()\n",
    "        num_words = len(words)\n",
    "        print(f\"The file {litterature} has about {num_words} words.\")\n",
    "\n",
    "word_count('alice.txt')\n",
    "        "
   ]
  },
  {
   "cell_type": "markdown",
   "metadata": {},
   "source": [
    "Concordance checks the context of a word. In the example below it checks what words comes after \"Alice\" in the text alice.txt"
   ]
  },
  {
   "cell_type": "code",
   "execution_count": null,
   "metadata": {},
   "outputs": [],
   "source": [
    "alice_file = open('alice.txt', encoding='utf-8').read()\n",
    "words = word_tokenize(alice_file)\n",
    "words = nl.text.Text(words)\n",
    "words.concordance(\"Alice\")\n"
   ]
  },
  {
   "cell_type": "code",
   "execution_count": null,
   "metadata": {},
   "outputs": [],
   "source": [
    "text1.concordance('big') # shows the word in context"
   ]
  },
  {
   "cell_type": "markdown",
   "metadata": {},
   "source": [
    "#### Use concordance and common_text to find the usage of 2 or more words"
   ]
  },
  {
   "cell_type": "code",
   "execution_count": 78,
   "metadata": {},
   "outputs": [
    {
     "name": "stdout",
     "output_type": "stream",
     "text": [
      "Displaying 13 of 13 matches:\n",
      "he streets take you waterward . Its extreme downtown is the battery , where tha\n",
      "ll flourish , must indeed have been extreme . But it was not in reasonable natu\n",
      "ue lurks in these small things when extreme political superstitions invest them\n",
      "hem for the event . It took off the extreme edge of their wonder ; and so what \n",
      "t been descried . Likewise upon the extreme stern of the boat where it was also\n",
      "mes over a man only in some time of extreme tribulation ; it comes in the very \n",
      ", both by night and by day , and so extreme was the hard work they underwent , \n",
      "the leaded chocks or grooves in the extreme pointed prow of the boat , where a \n",
      "re now to consider that only in the extreme , lower , backward sloping part of \n",
      "s . His motions plainly denoted his extreme exhaustion . In most land animals t\n",
      "ntly rocking , jerking boat , under extreme headway . Steel and wood included ,\n",
      "rced his groin ; nor was it without extreme difficulty that the agonizing wound\n",
      "' ll heave .\" They went towards the extreme stern , on the ship ' s lee side , \n",
      "\n",
      "\n",
      "Displaying 25 of 30 matches:\n",
      "close behind some promontory lie The huge Leviathan to attend their prey , And\n",
      ". HARRIS COLL . \" Here they saw such huge troops of whales , that they were fo\n",
      " mummies of those creatures in their huge bake - houses the pyramids . No , wh\n",
      "being , it seems , for some reason a huge favourite with them , they raised a \n",
      "chbowl ;-- taking it I suppose for a huge finger - glass . \" Now ,\" said Queeq\n",
      "glittering in the clear , cold air . Huge hills and mountains of casks on cask\n",
      "feet high ; consisting of the long , huge slabs of limber black bone taken fro\n",
      " rising solemnly and fumbling in the huge pockets of his broad - skirted drab \n",
      "d like the white ivory tusks of some huge elephant , vast curving icicles depe\n",
      "inctly recognised a peculiar sort of huge mole under the whale ' s eye , which\n",
      "e thick mists were dimly parted by a huge , vague form . Affrighted , we all s\n",
      "ng ,\" make out one whit better . The huge corpulence of that Hogarthian monste\n",
      "r on their backs as they scooped out huge globular pieces of the whale of the \n",
      "to dip their ship - biscuit into the huge oil - pots and let them fry there aw\n",
      " thought the whole round sea was one huge cheese , and those sharks the maggot\n",
      " conducted to the windlass , and the huge lower block of the tackles was swung\n",
      " take the head for the trunk of some huge oak , with a bird ' s nest in its cr\n",
      "k at that hanging lower lip ! what a huge sulk and pout is there ! a sulk and \n",
      "ere any of those blinds of bone ; no huge lower lip ; and scarcely anything of\n",
      "nd many fathoms in the rear , swam a huge , humped old bull , which by his com\n",
      "he wounded whale must have been such huge phantoms flitting over his head ! \" \n",
      "iece was carved in the likeness of a huge drooping stalk , was painted green ,\n",
      "he wondrous cistern in the whale ' s huge head ; not the prodigy of his unhing\n",
      " the whale - ship ' s stokers . With huge pronged poles they pitched hissing m\n",
      "neers wildly gesticulated with their huge pronged forks and dippers ; as the w\n",
      "\n",
      " common_context \n",
      "\n",
      "No common contexts were found\n"
     ]
    }
   ],
   "source": [
    "# text 1: Moby Dick\n",
    "text1.concordance('Extreme')\n",
    "print('\\n') # new line\n",
    "text1.concordance('Huge')\n",
    "print('\\n common_context \\n')\n",
    "text1.common_contexts([\"the\", \"world\"])\n"
   ]
  },
  {
   "cell_type": "markdown",
   "metadata": {},
   "source": [
    "#### Investigate the different use of the work \"english\" in 4 different texts"
   ]
  },
  {
   "cell_type": "code",
   "execution_count": 82,
   "metadata": {},
   "outputs": [
    {
     "name": "stdout",
     "output_type": "stream",
     "text": [
      "Displaying 25 of 49 matches:\n",
      "EDISH . WHALE , ICELANDIC . WHALE , ENGLISH . BALEINE , FRENCH . BALLENA , SPAN\n",
      "her to 10 , 440 yards or nearly six English miles . ... \" Sometimes the whale s\n",
      "VE . \" The voyages of the Dutch and English to the Northern Ocean , in order , \n",
      "and pile Cuba upon Canada ; let the English overswarm all India , and hang out \n",
      "ABLE ? Whaling is imperial ! By old English statutory law , the whale is declar\n",
      " s ; both in their time surgeons to English South - Sea whale - ships , and bot\n",
      "M WHALE ).-- This whale , among the English of old vaguely known as the Trumpa \n",
      "? It is the Great Mysticetus of the English naturalists ; the Greenland Whale o\n",
      "alists ; the Greenland Whale of the English whalemen ; the Baliene Ordinaire of\n",
      "st has been hunted by the Dutch and English in the Arctic seas ; it is the whal\n",
      " between the Greenland whale of the English and the right whale of the American\n",
      " , so far as it is known . The only English name , by which he has hitherto bee\n",
      " . From Icelandic , Dutch , and old English authorities , there might be quoted\n",
      "l -- fire your ship right into it ! ENGLISH SAILOR . Blood ! but that old man '\n",
      "essed , a row ! Plunge in with ye ! ENGLISH SAILOR . Fair play ! Snatch the Spa\n",
      "ing well known to both American and English whale - ships , and as well a thing\n",
      " hurled at him from its decks . The English ship Pusie Hall can tell a story on\n",
      ", as is the case with Americans and English . Though , to be sure , from the sm\n",
      " be sure , from the small number of English whalers , such meetings do not very\n",
      "anybody but himself . Besides , the English whalers sometimes affect a kind of \n",
      ". But where this superiority in the English whalemen does really consist , it w\n",
      "ely , kill more whales than all the English , collectively , in ten years . But\n",
      " is a harmless little foible in the English whale - hunters , which the Nantuck\n",
      "ain Colnett , a Post Captain in the English navy , entitled \" A Voyage round Ca\n",
      "hale hunt . For the most part , the English and American whale draughtsmen seem\n",
      "\n",
      "\n",
      "no matches\n",
      "\n",
      "\n",
      "Displaying 1 of 1 matches:\n",
      "beautiful remark of a distinguished English writer that \" in the Roman senate O\n",
      "\n",
      "\n",
      "Displaying 7 of 7 matches:\n",
      "d Chilver , 63-year-old chairman of English China Clays PLC , was named *-39 a \n",
      "f change-ringing is peculiar to the English , and , like most English peculiari\n",
      "ar to the English , and , like most English peculiarities , unintelligible to t\n",
      "ental Europe , is considered by the English *-136 to be childish , fit only for\n",
      "ng , a mind-boggling exercise 0 the English invented *T*-1 380 years ago , requ\n",
      "tense mental concentration . Proper English bells are started *-1 off in `` rou\n",
      "tive-story involving church bells , English novelist Dorothy L. Sayers describe\n",
      "\n",
      "\n"
     ]
    }
   ],
   "source": [
    "# text 1: Moby Dick\n",
    "# text 2: sense and Sensibility\n",
    "# text 4: Inaugural Address Corpus\n",
    "# text 7: Wall Street Journal\n",
    "\n",
    "text1.concordance(\"English\")\n",
    "print('\\n')\n",
    "text2.concordance(\"English\")\n",
    "print('\\n')\n",
    "text4.concordance(\"English\")\n",
    "print('\\n')\n",
    "text7.concordance(\"English\")\n",
    "print('\\n')"
   ]
  }
 ],
 "metadata": {
  "kernelspec": {
   "display_name": ".venv",
   "language": "python",
   "name": "python3"
  },
  "language_info": {
   "codemirror_mode": {
    "name": "ipython",
    "version": 3
   },
   "file_extension": ".py",
   "mimetype": "text/x-python",
   "name": "python",
   "nbconvert_exporter": "python",
   "pygments_lexer": "ipython3",
   "version": "3.12.2"
  }
 },
 "nbformat": 4,
 "nbformat_minor": 2
}
